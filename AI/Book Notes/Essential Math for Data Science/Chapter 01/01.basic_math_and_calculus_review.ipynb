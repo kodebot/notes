{
 "cells": [
  {
   "attachments": {},
   "cell_type": "markdown",
   "metadata": {},
   "source": [
    "# Number Theory\n",
    "\n",
    "* **Natural number**\n",
    "  * 1, 2, 3, and so on\n",
    "\n",
    "\n",
    "* **Whole numbers**\n",
    "  * natural numbers with 0\n",
    "  * 0, 1, 2, 3 and so on\n",
    "\n",
    "\n",
    "* **Integers**\n",
    "  * negative and positive whole numbers\n",
    "  * $- \\infty$ ... -1, 0, 1 ... $\\infty$\n",
    "\n",
    "\n",
    "* **Rational numbers**\n",
    "  * any number that you can represent as fraction\n",
    "  * $\\frac{22}{7}$\n",
    "  * these numbers represents `ratios` hence called rational numbers\n",
    "\n",
    "\n",
    "* **Irrational numbers**\n",
    "  * any number that you cannot represent as fraction\n",
    "  * decimal digits won't repeat and never end\n",
    "  * $\\sqrt{2}$, e\n",
    "\n",
    "\n",
    "* **Real numbers**\n",
    "  * rational and irrational numbers\n",
    "\n",
    "\n",
    "* **Complex and imaginary numbers**\n",
    "  * numbers expressed with $\\sqrt{-1}$\n"
   ]
  },
  {
   "attachments": {},
   "cell_type": "markdown",
   "metadata": {},
   "source": [
    "## Order of Operations\n",
    "\n",
    "* PEMDAS\n",
    "  * Parentheses, Exponents, Multiplication, Division, Addition and Subtraction "
   ]
  },
  {
   "attachments": {},
   "cell_type": "markdown",
   "metadata": {},
   "source": [
    "## Variables\n",
    "\n",
    "* named placeholder for an unspecified or unknown number\n",
    "* there are some standard variable names for certain variable types\n",
    "  * usually they are english alphabets or greek letter\n",
    "  * can be subscripted $x_0, x_1, ... $"
   ]
  },
  {
   "attachments": {},
   "cell_type": "markdown",
   "metadata": {},
   "source": [
    "## Functions\n",
    "* defines relationship between one or more variables\n",
    "* maps one or more independent (or domain) variables to dependent variables\n",
    "\n",
    "$y = 2x + 1$\n",
    "\n",
    "Alternate notation\n",
    "\n",
    "$f(x) = 2x + 1$\n",
    "\n",
    "* continues function\n",
    "  * independent variable(s) represent real values\n",
    "\n",
    "* curvilinear function\n",
    "  * continues and curvy function (as opposed to linear and straight)\n",
    "\n",
    "* side notes\n",
    "  * 2D plane used for plotting is called `Cartesian plane`, `x-y plane` or `coordinate plane`\n",
    "\n",
    "* usually a function takes one or more independent variables as input and outputs only one dependent variable\n",
    "  * if multiple dependent variables are needed, you will likely have one function for each dependent variable"
   ]
  },
  {
   "attachments": {},
   "cell_type": "markdown",
   "metadata": {},
   "source": [
    "## Summations\n",
    "\n",
    "* adds elements together, expressed as `sigma` $\\sum$"
   ]
  },
  {
   "cell_type": "code",
   "execution_count": 2,
   "metadata": {},
   "outputs": [
    {
     "data": {
      "text/latex": [
       "$\\displaystyle 30$"
      ],
      "text/plain": [
       "30"
      ]
     },
     "execution_count": 2,
     "metadata": {},
     "output_type": "execute_result"
    }
   ],
   "source": [
    "from sympy import symbols, Sum\n",
    "\n",
    "i,n = symbols('i n')\n",
    "summation = Sum(2*i, (i, 1, n))\n",
    "\n",
    "# substitute 5 for n\n",
    "one_to_five = summation.subs(n, 5)\n",
    "one_to_five.doit()"
   ]
  },
  {
   "attachments": {},
   "cell_type": "markdown",
   "metadata": {},
   "source": [
    "## Exponents\n",
    "\n",
    "* multiply a number by itself a specified number of times\n",
    "\n",
    "* ${base}^{exponent}$\n",
    "\n",
    "* product rule\n",
    "  * when base of all multiplied exponents are same then we can just add the exponents\n",
    "\n",
    "    * $x^2 \\times x^3 = x^{2 + 3}$\n",
    "\n",
    "    * $\\frac{1}{x^3} = x^{-3}$\n",
    "\n",
    "    * $x^2 \\times x^{-3} = x^{2 + (-3)}$\n",
    "\n",
    "* $x^0 = 1$ - intuition is any number divided by itself is 1\n",
    "\n",
    "  * $\\frac{x^3}{x^3} = 1, \\frac{x^3}{x^3} = x^0$\n",
    "\n",
    "  * so according to `transitive property`, which is $ a = b, b = c means a = c$, we can say $x^0 = 1$\n",
    "\n"
   ]
  },
  {
   "cell_type": "code",
   "execution_count": 5,
   "metadata": {},
   "outputs": [
    {
     "data": {
      "text/latex": [
       "$\\displaystyle \\frac{1}{x^{3}}$"
      ],
      "text/plain": [
       "x**(-3)"
      ]
     },
     "execution_count": 5,
     "metadata": {},
     "output_type": "execute_result"
    }
   ],
   "source": [
    "from sympy import symbols\n",
    "\n",
    "x = symbols(\"x\")\n",
    "expr = x**2 / x**5\n",
    "expr"
   ]
  },
  {
   "attachments": {},
   "cell_type": "markdown",
   "metadata": {},
   "source": [
    "* fractional exponents\n",
    "\n",
    "  * indicates roots\n",
    "\n",
    "  * $\\sqrt{x} = x^{\\frac{1}{2}}$\n",
    "\n",
    "  * $\\sqrt[3]{x} = x^{\\frac{1}{3}}$\n",
    "\n",
    "* power rule\n",
    "\n",
    "  * we can multiply the exponent of exponent\n",
    "\n",
    "  * ${a^b}^c = a^{b \\times c}$\n",
    "\n",
    "* irrational exponents\n",
    "\n",
    "  * we can calculate irrational exponents by approximating it o rational exponents\n",
    "\n"
   ]
  },
  {
   "attachments": {},
   "cell_type": "markdown",
   "metadata": {},
   "source": [
    "## Logarithms\n",
    "\n",
    "* finds a power of given base and number\n",
    "\n",
    "* ${base}^{exponent} = number  \\longrightarrow \\log_{base} number = exponent$\n",
    "\n",
    "* ${b}^{x} = y  \\longrightarrow \\log_{b} y = x$\n",
    "\n",
    "* think like `what base raised to what power gives the number?`\n",
    "\n",
    "* think like when log is added, base stays the same, number and exponent exchange positions (loosely)\n",
    "\n",
    "* when number and base are same then the  `log` will is `1` - we can use this derive the formula if forgotten\n",
    "\n",
    "![Image](img/01.basic_math_and_calculus_review-0504094637.png)\n",
    "\n",
    "* the following are exponent and logarithm properties\n",
    "\n",
    "![Image Log and exponent properties](img/01.basic_math_and_calculus_review-0504093531.png)\n"
   ]
  },
  {
   "attachments": {},
   "cell_type": "markdown",
   "metadata": {},
   "source": [
    "## Euler's Number and Natural Logarithms\n",
    "\n",
    "### Euler's Number\n",
    "\n",
    "* its exponential function is a derivative to itself\n",
    "\n",
    "* $\\frac{d(e^x)}{dx} = e^x$\n",
    "\n",
    "* base for natural log (ln)\n",
    "\n",
    "#### deriving value for `e`\n",
    "\n",
    "* compound interest/growth formula\n",
    "\n",
    "    * $ A = P \\times ({1 + \\frac{r}{n}})^{nt}$\n",
    "\n",
    "      * P - principle\n",
    "    \n",
    "      * r - rate of growth in a fixed period (annual interest rate)\n",
    "\n",
    "      * n - compounding periods in a fixed period (monthly for example), so monthly interest would be $\\frac{r}{n}$\n",
    "\n",
    "      * t - total number of fixed periods\n",
    "\n",
    "* if we keep increasing `n` value (to the point where `n` is continues), we will see diminishing return\n",
    "\n",
    "* compound interest/growth formula can be re-written as\n",
    "\n",
    "    * $ A = P \\times {e}^{nt}$\n",
    "\n",
    "    * $ e = (1+\\frac{1}{n})^{n}$\n",
    "\n",
    "      * $\\lim\\limits_{n \\to \\infty} e = 2.71828$ \n",
    "\n",
    "### Natural Logarithms\n",
    "\n",
    "* log with base `e`\n"
   ]
  },
  {
   "cell_type": "code",
   "execution_count": 11,
   "metadata": {},
   "outputs": [
    {
     "name": "stdout",
     "output_type": "stream",
     "text": [
      "2.302585092994046\n",
      "1.0\n",
      "1.0\n"
     ]
    }
   ],
   "source": [
    "from math import log,e\n",
    "\n",
    "# default base for log in python is e\n",
    "print(log(10))\n",
    "print(log(e))\n",
    "print(log(10, 10))"
   ]
  },
  {
   "attachments": {},
   "cell_type": "markdown",
   "metadata": {},
   "source": [
    "## Limits\n",
    "\n",
    "* as input value of a function approaches a particular value, the output value of the function will approach output value\n",
    "\n",
    "* $f(x) = \\frac{1}{x}, \\lim \\limits_{x \\to \\infty} = 0$\n",
    "\n",
    "  * as x approaches infinity f(x) will approach 0 but never reach 0"
   ]
  },
  {
   "cell_type": "code",
   "execution_count": 20,
   "metadata": {},
   "outputs": [
    {
     "data": {
      "image/png": "[encoded data removed]",
      "text/plain": [
       "<Figure size 640x480 with 1 Axes>"
      ]
     },
     "metadata": {},
     "output_type": "display_data"
    }
   ],
   "source": [
    "import matplotlib.pyplot as plt\n",
    "import numpy as np\n",
    "\n",
    "plt.style.use(\"ggplot\")\n",
    "\n",
    "x = np.linspace(0.1, 10, 10000)\n",
    "y = 1/x\n",
    "\n",
    "plt.ylim(0, 10)\n",
    "plt.plot(x, y)\n",
    "plt.show()"
   ]
  },
  {
   "cell_type": "code",
   "execution_count": 22,
   "metadata": {},
   "outputs": [
    {
     "name": "stdout",
     "output_type": "stream",
     "text": [
      "0\n"
     ]
    }
   ],
   "source": [
    "import sympy as sym\n",
    "\n",
    "x = sym.symbols(\"x\")\n",
    "f = 1/x\n",
    "\n",
    "result = sym.limit(f, x, sym.oo)\n",
    "print(result)"
   ]
  },
  {
   "cell_type": "code",
   "execution_count": 30,
   "metadata": {},
   "outputs": [
    {
     "data": {
      "text/latex": [
       "$\\displaystyle \\left(1 + \\frac{1}{n}\\right)^{n}$"
      ],
      "text/plain": [
       "(1 + 1/n)**n"
      ]
     },
     "metadata": {},
     "output_type": "display_data"
    },
    {
     "data": {
      "text/latex": [
       "$\\displaystyle e$"
      ],
      "text/plain": [
       "E"
      ]
     },
     "metadata": {},
     "output_type": "display_data"
    },
    {
     "data": {
      "text/latex": [
       "$\\displaystyle 2.71828182845905$"
      ],
      "text/plain": [
       "2.71828182845905"
      ]
     },
     "execution_count": 30,
     "metadata": {},
     "output_type": "execute_result"
    }
   ],
   "source": [
    "import sympy as sym\n",
    "\n",
    "n = sym.symbols(\"n\")\n",
    "f = (1+(1/n)) ** n\n",
    "\n",
    "display(f)\n",
    "\n",
    "result = sym.limit(f, n, sym.oo)\n",
    "display(result)\n",
    "result.evalf()\n"
   ]
  },
  {
   "attachments": {},
   "cell_type": "markdown",
   "metadata": {},
   "source": [
    "## Derivatives\n",
    "\n",
    "* tells slope of the function\n",
    "\n",
    "* measures rate of change at any point\n",
    "\n",
    "* useful for calculating things like `gradient decent`"
   ]
  }
 ],
 "metadata": {
  "kernelspec": {
   "display_name": "base",
   "language": "python",
   "name": "python3"
  },
  "language_info": {
   "codemirror_mode": {
    "name": "ipython",
    "version": 3
   },
   "file_extension": ".py",
   "mimetype": "text/x-python",
   "name": "python",
   "nbconvert_exporter": "python",
   "pygments_lexer": "ipython3",
   "version": "3.9.13"
  },
  "orig_nbformat": 4
 },
 "nbformat": 4,
 "nbformat_minor": 2
}
