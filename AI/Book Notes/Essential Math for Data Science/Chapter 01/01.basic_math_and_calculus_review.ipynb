{
 "cells": [
  {
   "attachments": {},
   "cell_type": "markdown",
   "metadata": {},
   "source": [
    "# Number Theory\n",
    "\n",
    "* **Natural number**\n",
    "  * 1, 2, 3, and so on\n",
    "\n",
    "\n",
    "* **Whole numbers**\n",
    "  * natural numbers with 0\n",
    "  * 0, 1, 2, 3 and so on\n",
    "\n",
    "\n",
    "* **Integers**\n",
    "  * negative and positive whole numbers\n",
    "  * $- \\infty$ ... -1, 0, 1 ... $\\infty$\n",
    "\n",
    "\n",
    "* **Rational numbers**\n",
    "  * any number that you can represent as fraction\n",
    "  * $\\frac{22}{7}$\n",
    "\n",
    "\n",
    "* **Irrational numbers**\n",
    "  * any number that you cannot represent as fraction\n",
    "  * decimal digits won't repeat and never end\n",
    "  * $\\sqrt{2}$, e\n",
    "\n",
    "\n",
    "* **Real numbers**\n",
    "  * rational and irrational numbers\n",
    "\n",
    "\n",
    "* **Complex and imaginary numbers**\n",
    "  * numbers expressed with $\\sqrt{-1}$\n"
   ]
  }
 ],
 "metadata": {
  "language_info": {
   "name": "python"
  },
  "orig_nbformat": 4
 },
 "nbformat": 4,
 "nbformat_minor": 2
}
