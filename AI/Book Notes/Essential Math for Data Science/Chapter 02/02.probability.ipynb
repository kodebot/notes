{
 "cells": [
  {
   "attachments": {},
   "cell_type": "markdown",
   "metadata": {},
   "source": [
    "# Probability\n",
    "\n",
    "* world is full of uncertainties that we want to measure\n",
    "\n",
    "* probability theoretical study of measuring certainty that an event will happen\n",
    "\n",
    "## Understanding Probability\n",
    "\n",
    "* probability is how strong we believe an event will happen\n",
    "\n",
    "  * usually referred in percent or 0.0 to 1.0\n",
    "\n",
    "* P(X) = 0.7\n",
    "\n",
    "  * notation for probability\n",
    "\n",
    "  * X - expected event\n",
    "\n",
    "* **Probability vs. Likelihood**\n",
    "\n",
    "  * `Probability` is quantifying predictions of events yet to happen (future)\n",
    "\n",
    "    * sum of probabilities of all mutually exclusive event must be 1\n",
    "  \n",
    "  * `Likelihood` is measuring the frequency of events already happened (past)\n",
    "\n",
    "    * sum of events totalling to 1 is not applicable for likelihood\n",
    "\n",
    "* complement\n",
    "\n",
    "  * probability of an event must be between 0 and 1\n",
    "\n",
    "  * this means we can calculate the probability of event not happening as\n",
    "\n",
    "    * P(not A) = 1 - P(A)\n",
    "\n",
    "      * this is referred to as complement rule\n"
   ]
  },
  {
   "cell_type": "code",
   "execution_count": null,
   "metadata": {},
   "outputs": [],
   "source": []
  }
 ],
 "metadata": {
  "kernelspec": {
   "display_name": "base",
   "language": "python",
   "name": "python3"
  },
  "language_info": {
   "codemirror_mode": {
    "name": "ipython",
    "version": 3
   },
   "file_extension": ".py",
   "mimetype": "text/x-python",
   "name": "python",
   "nbconvert_exporter": "python",
   "pygments_lexer": "ipython3",
   "version": "3.9.13"
  },
  "orig_nbformat": 4
 },
 "nbformat": 4,
 "nbformat_minor": 2
}
