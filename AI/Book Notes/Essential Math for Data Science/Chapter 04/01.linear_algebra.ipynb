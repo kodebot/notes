{
 "cells": [
  {
   "attachments": {},
   "cell_type": "markdown",
   "metadata": {},
   "source": [
    "# Linear Algebra\n",
    "\n",
    "* misconception that Linear algebra is algebra and that is all about plotting line with $y = mx + b $\n",
    "\n",
    "* this is why it should be referred to as `Vector Algebra` or `Matrix Algebra` as it is much more to do with than just plotting lines\n",
    "\n",
    "  * much more useful is many metaphysical ways\n",
    "\n",
    "* concerns itself with linear systems but represents them with `vectors` and `matrices` \n",
    "\n",
    "* inevitable to learn Linear Algebra in ML and Data Science to see what is going on inside the black box\n",
    "\n",
    "## What is a Vector?\n",
    "\n",
    "* imagine vector as arrow in the space with specific length and direction, its tail sits at (0, 0) of Cartesian plane\n",
    "\n",
    "  * vector usually represents data\n",
    "\n",
    "  * usually represents as $ \\bar{v} = \\begin{bmatrix}x \\\\ y \\end{bmatrix} $\n",
    "\n",
    "  * example, \n",
    "\n",
    "    * $\\bar{v} = \\begin{bmatrix} 3 \\\\ 2 \\end{bmatrix}$\n",
    "\n",
    "      * think of this as 3 to the right and 2 to the top\n",
    "\n",
    "        * ![](img/01.linear_algebra-2604064652.png)\n",
    "  \n",
    "    * house with 18000 square feet and $260000 price can be represented as\n",
    "\n",
    "      * $\\bar{v} = \\begin{bmatrix} 18000 \\\\ 260000 \\end{bmatrix}$\n",
    "\n",
    "* use NumPy array or SciPy to represent and perform operations on vector rather than Python list\n",
    "\n",
    "  * for computational efficiency"
   ]
  },
  {
   "cell_type": "code",
   "execution_count": 1,
   "metadata": {},
   "outputs": [
    {
     "data": {
      "text/plain": [
       "array([3, 2])"
      ]
     },
     "execution_count": 1,
     "metadata": {},
     "output_type": "execute_result"
    }
   ],
   "source": [
    "import numpy as np\n",
    "\n",
    "np.array([3, 2])"
   ]
  },
  {
   "attachments": {},
   "cell_type": "markdown",
   "metadata": {},
   "source": [
    "* vector\n",
    "\n",
    "  * in physics\n",
    "\n",
    "    * direction and magnitude\n",
    "\n",
    "  * in math\n",
    "\n",
    "    * direction and scale on XY plane\n",
    "\n",
    "  * in computer science\n",
    "\n",
    "    * way of storing list of numbers\n",
    "\n",
    "* computer science view is the one that will be used for DS and ML\n",
    "\n",
    "* without visual representation of what a vector is\n",
    "\n",
    "  * it is impossible to grasp may fundamental concepts like `linear dependence`, `determinant`, etc...\n",
    "\n",
    "  ![](img/01.linear_algebra-2604065818.png)\n",
    "\n",
    "\n",
    "* where is it used\n",
    "\n",
    "  * computer graphics (animations and transformations)\n",
    "\n",
    "  * linear programming (linear algebra is used to maximise/minimise the solutions within the given constraints)\n",
    "\n",
    "  * physical and physics related simulations\n",
    "\n",
    "  * used is so many areas so it is hard to see the generalisation\n",
    "\n",
    "* dimension\n",
    "\n",
    "  * vector can be on n dimension, but it is hard to visualise beyond 3d\n",
    "\n",
    "\n",
    "## Adding and Combining Vectors\n",
    "\n",
    "![](img/01.linear_algebra-2604072254.png)"
   ]
  }
 ],
 "metadata": {
  "kernelspec": {
   "display_name": "base",
   "language": "python",
   "name": "python3"
  },
  "language_info": {
   "codemirror_mode": {
    "name": "ipython",
    "version": 3
   },
   "file_extension": ".py",
   "mimetype": "text/x-python",
   "name": "python",
   "nbconvert_exporter": "python",
   "pygments_lexer": "ipython3",
   "version": "3.10.9"
  },
  "orig_nbformat": 4
 },
 "nbformat": 4,
 "nbformat_minor": 2
}
