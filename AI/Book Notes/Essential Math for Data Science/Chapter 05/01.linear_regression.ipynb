{
 "cells": [
  {
   "attachments": {},
   "cell_type": "markdown",
   "metadata": {},
   "source": [
    "# Linear Regression\n",
    "\n",
    "* most practical data analysis technique is fitting a line through observed data points \n",
    "\n",
    "  * to show relationship between two or more variables\n",
    "\n",
    "* fitting a function to observed data and make prediction on new data is `regression`\n",
    "\n",
    "* fitting a straight line to observed data and make prediction on new data is `linear regression`\n",
    "\n",
    "  * the relationship between the variables is linear\n",
    "\n",
    "![](img/01.linear_regression-0605064847.png)\n",
    "\n",
    "* Linear regression has been around for 200 years, contemporarily is branded as machine learning technique\n",
    "\n",
    "* Machine learning practitioner vs. Statistician\n",
    "\n",
    "  * ML practitioner cross validates using techniques like training and test data split\n",
    "\n",
    "  * Statistician uses metrics like prediction interval, correlation for statistical significance\n",
    "\n",
    "* ML uses regression as one of the main tools in supervised learning\n",
    "\n",
    "  * same model in statistics in referred as statistical learning\n",
    "\n",
    "  * unsupervised learning is mainly for clustering and anomaly detection\n",
    "\n",
    "  * reinforcement learning is similar to supervised learning but using simulation to rapidly generate synthetic data"
   ]
  }
 ],
 "metadata": {
  "language_info": {
   "name": "python"
  },
  "orig_nbformat": 4
 },
 "nbformat": 4,
 "nbformat_minor": 2
}
