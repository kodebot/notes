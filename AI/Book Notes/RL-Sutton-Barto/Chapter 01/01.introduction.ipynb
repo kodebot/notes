{
 "cells": [
  {
   "cell_type": "markdown",
   "metadata": {},
   "source": [
    "# 1. Introduction\n",
    "\n",
    "* people or animals learn by interacting with environment\n",
    "  * they acutely aware how environment responds to what they do\n",
    "  * they seek to influence what happens through their behaviour (action/interaction)\n",
    "\n",
    "* learning from interaction is foundational idea underlying all theories of learning and intelligence\n",
    "\n",
    "* the focus of this book is to explore computational approach to learning from interaction\n",
    "\n",
    "* the approach explored is called `reinforcement learning` which focused on goal-directed learning from interaction"
   ]
  },
  {
   "cell_type": "markdown",
   "metadata": {},
   "source": [
    "## 1.1. Reinforcement Learning\n",
    "\n",
    "* is a learning of what to do\n",
    "\n",
    "* how to map situations (states) to actions - so as to maximise numerical reward signal\n",
    "\n",
    "* learner is not told which action to take, but instead discover which actions yield max reward by trying them\n",
    "\n",
    "* in most cases, action not only affect immediate reward but also next situation (state), thereby affecting future reward\n",
    "\n",
    "* two most important distinguishing features of RL are\n",
    "  * trial-and-error search\n",
    "  * delayed reward"
   ]
  }
 ],
 "metadata": {
  "language_info": {
   "name": "python"
  }
 },
 "nbformat": 4,
 "nbformat_minor": 2
}
