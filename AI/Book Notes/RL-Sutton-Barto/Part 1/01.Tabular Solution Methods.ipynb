{
 "cells": [
  {
   "cell_type": "markdown",
   "metadata": {},
   "source": [
    "# Part I: Tabular Solution Methods\n",
    "\n",
    "* Chapter 2 to 8 deals with Tabular Solution methods\n",
    "* Core ideas of RL are described in simplest form\n",
    "  * state and action spaces are small enough to represent value function as array or table\n",
    "  * often possible to find exact optimal value function and optimal policy"
   ]
  }
 ],
 "metadata": {
  "language_info": {
   "name": "python"
  }
 },
 "nbformat": 4,
 "nbformat_minor": 2
}
