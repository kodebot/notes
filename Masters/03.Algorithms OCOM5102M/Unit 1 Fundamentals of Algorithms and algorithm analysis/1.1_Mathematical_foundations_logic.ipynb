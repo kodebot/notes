{
 "cells": [
  {
   "attachments": {},
   "cell_type": "markdown",
   "metadata": {},
   "source": [
    "# Mathematical Foundations: Logic\n",
    "\n",
    "* Logic (from Greek 'logos' = logic, reason)\n",
    "\n",
    "  * teaches us how to make logically correct arguments and correctly draw conclusions\n",
    "\n",
    "  * is a subdiscipline of Computers Science, Mathematics, Philosophy, Linguistics, Rhetoric\n",
    "\n",
    "  * Logic for Computer Science is like Calculus for Physics"
   ]
  },
  {
   "attachments": {},
   "cell_type": "markdown",
   "metadata": {},
   "source": [
    "## 1.1.1 Propositional logic"
   ]
  },
  {
   "attachments": {},
   "cell_type": "markdown",
   "metadata": {},
   "source": [
    "### 1.1.1.1 Propositions, negation, conjunction and disjunction\n",
    "\n",
    "* `proposition` is a declarative sentence (that is, a sentence that declares a fact) that is either true or false, not both\n",
    "\n",
    "* examples of not propositions\n",
    "\n",
    "  * Are you studying Algorithms? => Not a proposition because it a question not a declarative statement\n",
    "\n",
    "  * Read this carefully. => Instruction, not a declarative statement\n",
    "\n",
    "  * x + 1 = 2. => we can't know whether it is true or false until we know what is x so, it is not a proposition\n",
    "\n",
    "  * x + y = z. => same as above, we can't know if it is true or false util we know the values so, it is not a proposition\n",
    "\n",
    "* Notation\n",
    "\n",
    "  * conventional letters for propositional variables are $p, q, r, s, p_1, p_2, \\dots$\n",
    "\n",
    "  * truth value of a proposition is `true`, denoted by `T`\n",
    "\n",
    "  * `false` denoted by `F`\n",
    "\n",
    "* Compound propositions\n",
    "\n",
    "  * `connectives` (that is, logical operators) used to combine one or more propositions\n",
    "\n",
    "  * `not`, `and`, `or`, `if...then`, `if and only if`"
   ]
  },
  {
   "attachments": {},
   "cell_type": "markdown",
   "metadata": {},
   "source": [
    "##### Negation (not)\n",
    "\n",
    "* let $p$ be the proposition. The negation of $p$ is $\\neg p$ and it is a statement\n",
    "\n",
    "* $\\neg p$ is read as 'not p`\n",
    "\n",
    "* truth table\n",
    "\n",
    "| p | $\\neg p$ |\n",
    "|--|--|\n",
    "|T|F|\n",
    "|F|T|\n",
    "\n"
   ]
  },
  {
   "attachments": {},
   "cell_type": "markdown",
   "metadata": {},
   "source": [
    "##### Conjunction (and)\n",
    "\n",
    "* let $p$ and $q$ be the propositions. The conjunction of $p$ and $q$ is $p \\land q$ and it is a statement\n",
    "\n",
    "* $p \\land q$ is read as 'p and q`\n",
    "\n",
    "* truth table\n",
    "\n",
    "| p | q | $p \\land q$ |\n",
    "|--|--|--|\n",
    "|T|T|T|\n",
    "|T|F|F|\n",
    "|F|T|F|\n",
    "|F|F|F|\n",
    "\n",
    "* note: sometimes we use `but` instead of `and`\n",
    "\n",
    "  * for example, The sun is shining but it is raining. This is same as, The sun is shining and it is raining\n",
    "\n"
   ]
  },
  {
   "attachments": {},
   "cell_type": "markdown",
   "metadata": {},
   "source": [
    "\n",
    "##### Disjunction (or)\n",
    "\n",
    "* let $p$ and $q$ be the propositions. The disjunction of $p$ and $q$ is $p \\lor q$ and it is a statement\n",
    "\n",
    "* $p \\lor q$ is read as 'p or q`\n",
    "\n",
    "* truth table\n",
    "\n",
    "| p | q | $p \\lor q$ |\n",
    "|--|--|--|\n",
    "|T|T|T|\n",
    "|T|F|T|\n",
    "|F|T|T|\n",
    "|F|F|F|"
   ]
  }
 ],
 "metadata": {
  "language_info": {
   "name": "python"
  },
  "orig_nbformat": 4
 },
 "nbformat": 4,
 "nbformat_minor": 2
}
