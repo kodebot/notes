{
 "cells": [
  {
   "cell_type": "markdown",
   "metadata": {},
   "source": [
    "## P4DS Formative Assignment 1\n",
    "\n",
    "#### Last modified: 01/02/2023\n",
    "\n",
    "### Overview\n",
    "\n",
    "This formative coursework has the following objectives:\n",
    "\n",
    "* To illustrate and develop skills of basic Python programming. \n",
    "* To help you get used to coding in the Jupyter environment\n",
    "  using this kind of coursework specification format, in which\n",
    "  the instructions and your answers are given in the same notebook file.\n",
    "* To show you the semi-automated program testing and grading systems\n",
    "  that will be used for the programming assignment on this module.\n",
    "\n",
    "Your work will consist of defining a number of functions according to given specifications.\n",
    "\n",
    "You will be given a bare skeleton function; just giving the function name, arguments and a dummy return value. To answer the questions, you need to fill in code within the\n",
    "template functions in order to create a working function that fulfils the\n",
    "given requirements.\n",
    "\n",
    "#### Automatic Testing\n",
    "\n",
    "You will be able to check that your functions are working correctly, by running a testing function defined in the Python file `A1_Formative_tests.py`. You should download this file and put it in the same directory as this file (`P4DS_Formative_A1.ipynb`).\n",
    "  \n",
    "An example question is given below, with an explanation of how to answer it and test your answer. After that, there are 3 questions you need to answer yourself. \n",
    "\n"
   ]
  },
  {
   "cell_type": "markdown",
   "metadata": {},
   "source": [
    "## Eg1: Count the number of vowels in a string\n",
    "Define a function __`number_of_vowels`__, which takes one string argument and returns the number of vowels that occur in that string. More specifically, the number returned should be the total number of occurences of all vowels in either lower or upper case.\n",
    "The following table shows the required outputs for various inputs:\n",
    "\n",
    "| INPUT\t                 | OUPUT |\n",
    "| ----                   | ----  |\n",
    "| `\"yyyykz\"            `             |\t0    |\n",
    "| `\"A cat sat on a mat\"` |\t6    |\n",
    "| `\"Abracadabra\"`        |\t5    |\n",
    "| `\"Eutopia\"`\t         |  5    |\n",
    "\n",
    "Below is a template for the function, that you need to modify to implement the specified function:"
   ]
  },
  {
   "cell_type": "code",
   "execution_count": null,
   "metadata": {},
   "outputs": [],
   "source": [
    "## Edit this cell to give your answer\n",
    "\n",
    "def number_of_vowels( string ):\n",
    "    ### Add code here to compute the required result:\n",
    "    return ## Change this to return the answer \n"
   ]
  },
  {
   "cell_type": "markdown",
   "metadata": {},
   "source": [
    "In this case an answer that fulfils the requirements is the following:"
   ]
  },
  {
   "cell_type": "code",
   "execution_count": 1,
   "metadata": {},
   "outputs": [],
   "source": [
    "def number_of_vowels( string ):\n",
    "    vowel_count = 0\n",
    "    for c in string:\n",
    "        if c in \"aeiouAEIOU\":\n",
    "            vowel_count += 1\n",
    "    return vowel_count       \n"
   ]
  },
  {
   "cell_type": "markdown",
   "metadata": {},
   "source": [
    "__Note:__ When answering the questions below, you can just modify the given template cell. You don't need to create a new cell for your definition. But make sure you do not alter the name of the function or the number and type of its arguments, otherwise the automatic testing/grading function will not work correctly."
   ]
  },
  {
   "cell_type": "markdown",
   "metadata": {},
   "source": [
    "#### Automatic testing:\n",
    "To run tests on your __number_of_vowels__ function, run the following code cell.<br>\n",
    "(Make sure you first run the cell above that defines __number_of_vowels__.)"
   ]
  },
  {
   "cell_type": "code",
   "execution_count": 2,
   "metadata": {},
   "outputs": [
    {
     "name": "stdout",
     "output_type": "stream",
     "text": [
      "\n",
      "Running tests for function: number_of_vowels\n",
      "  * number_of_vowels( 'How many vowels?' )  ...\n",
      "    returned: 4\n",
      "    Correct :)   (1)\n",
      "  * number_of_vowels( 'Sooo many vowels!' )  ...\n",
      "    returned: 6\n",
      "    Correct :)   (1)\n",
      "  * number_of_vowels( 'XXXX' )  ...\n",
      "    returned: 0\n",
      "    Correct :)   (1)\n",
      "Total marks for this function: 3 (of 3)\n"
     ]
    },
    {
     "data": {
      "text/plain": [
       "(3, 3)"
      ]
     },
     "execution_count": 2,
     "metadata": {},
     "output_type": "execute_result"
    }
   ],
   "source": [
    "# Run this cell to test number_of_vowels function\n",
    "# The A1_Formative_tests.py program must be in the same folder as this file.\n",
    "from A1_Formative_tests import do_tests\n",
    "do_tests(number_of_vowels)"
   ]
  },
  {
   "cell_type": "markdown",
   "metadata": {},
   "source": [
    "## Q1: Count the number of *different* vowels in a string\n",
    "\n",
    "To answer this question you need to write code that will determine the number of different vowels in a string input by the user. By \"different vowels\" we mean that if the same vowel occurs more than once it is only counted once. Moreover, small and captial versions of the same letter do NOT count as different vowels. Thus, the number given as the answer will always be from 0 to 5 (inclusive).\n",
    "\n",
    "Examples:\n",
    "\n",
    "|INPUT  |\t    OUPUT |  comment |\n",
    "| ----  |       --- |  ---- |\n",
    "| \"yyyykz\" |\t0 |     no vowels |\n",
    "| \"hello you\"   |  3 | three different vowels |\n",
    "| \"abracadabra\" |\t1 | the only vowel is \"a\" |\n",
    "| \"Ooops!\"      |   1 | only vowel is \"o\" (both small and capital)     \n",
    "| \"A cat sat on a mat\" | 2 | contains \"a\" and \"o\"|  |\n",
    "| \"Eutopia\" |\t5 | contains all five volwels|\n"
   ]
  },
  {
   "cell_type": "code",
   "execution_count": 8,
   "metadata": {},
   "outputs": [],
   "source": [
    "## Edit this cell to give your answer for Q1\n",
    "\n",
    "def number_of_distinct_vowels( string ):\n",
    "    ### Add code here to compute the required number\n",
    "    string = set(string.lower())\n",
    "    vowels = \"aeiouAEIOU\"\n",
    "    vowels_count = 0\n",
    "    for s in string:\n",
    "        if s in vowels:\n",
    "            vowels_count += 1\n",
    "\n",
    "    return vowels_count ## Change this to return the answer (an integer)"
   ]
  },
  {
   "cell_type": "code",
   "execution_count": 9,
   "metadata": {},
   "outputs": [
    {
     "name": "stdout",
     "output_type": "stream",
     "text": [
      "\n",
      "Running tests for function: number_of_distinct_vowels\n",
      "  * number_of_distinct_vowels( 'Hello World' )  ...\n",
      "    returned: 2\n",
      "    Correct :)   (1)\n",
      "  * number_of_distinct_vowels( 'Sooo many vowels!' )  ...\n",
      "    returned: 3\n",
      "    Correct :)   (1)\n",
      "  * number_of_distinct_vowels( 'XXXX' )  ...\n",
      "    returned: 0\n",
      "    Correct :)   (1)\n",
      "  * number_of_distinct_vowels( 'Eutopia' )  ...\n",
      "    returned: 5\n",
      "    Correct :)   (1)\n",
      "Total marks for this function: 4 (of 4)\n"
     ]
    },
    {
     "data": {
      "text/plain": [
       "(4, 4)"
      ]
     },
     "execution_count": 9,
     "metadata": {},
     "output_type": "execute_result"
    }
   ],
   "source": [
    "# Run this cell to test the number_of_distinct_vowels function\n",
    "# The A1_Formative_tests.py program must be in the same folder as this file.\n",
    "from A1_Formative_tests import do_tests\n",
    "do_tests(number_of_distinct_vowels)"
   ]
  },
  {
   "cell_type": "markdown",
   "metadata": {},
   "source": [
    "## Q2: Password Strength (6 marks)\n",
    "An institution uses the following rules to classify the strength of passwords:\n",
    "\n",
    "* A string is a WEAK password if it is _less than_ 8 characters long.\n",
    "\n",
    "* A string is a STRONG password if:\n",
    "  * It contains at least 11 characters,\n",
    "  * AND it contains at least 1 lower case letter,\n",
    "  * AND it contains at least 1 capital letter,\n",
    "  * AND it contains at least 1 numerical digit.\n",
    "* A string is a MEDIUM password if it is NOT a WEAK password AND is NOT a STRONG password.\n",
    "\n",
    "You need to code a function ```password_strength``` that will take a string argument and will return the 'strength' of that string as a password, according to the rules given above. So it should return one of the strings ```\"STRONG\"```, ```\"WEAK\"``` or ```\"MEDIUM\"```.\n",
    "\n",
    "Examples:\n",
    "\n",
    "| INPUT             | OUPUT |\n",
    "| -----             | --------|\n",
    "| ```\"hello\"```           |\t```\"WEAK\"``` |\n",
    "| ```\"7Kings8all9Pies\"``` |\t```\"STRONG\"``` |\n",
    "| ```\"brandon123\"```      |\t```\"MEDIUM\"``` |\n"
   ]
  },
  {
   "cell_type": "code",
   "execution_count": 11,
   "metadata": {},
   "outputs": [
    {
     "data": {
      "text/plain": [
       "False"
      ]
     },
     "execution_count": 11,
     "metadata": {},
     "output_type": "execute_result"
    }
   ],
   "source": []
  },
  {
   "cell_type": "code",
   "execution_count": 12,
   "metadata": {},
   "outputs": [],
   "source": [
    "## Edit this cell to give your answer for Q2\n",
    "\n",
    "def password_strength( password ):\n",
    "    def has_lower(pwd):\n",
    "        for p in pwd:\n",
    "            if p.islower():\n",
    "                return True\n",
    "\n",
    "        return False\n",
    "\n",
    "    def has_upper(pwd):\n",
    "        for p in pwd:\n",
    "            if p.isupper():\n",
    "                return True\n",
    "\n",
    "        return False\n",
    "\n",
    "    def has_digit(pwd):\n",
    "        for p in pwd:\n",
    "            if p.isdigit():\n",
    "                return True\n",
    "\n",
    "        return False\n",
    "\n",
    "    ## Add code to compute password strength\n",
    "    if len(password) >= 11 and has_lower(password) and has_upper(password) and has_digit(password):\n",
    "        return \"STRONG\"\n",
    "    elif len(password) < 8:\n",
    "        return \"WEAK\"\n",
    "    else:\n",
    "        return \"MEDIUM\"\n",
    "    # return \"Hmm, not sure\"  # should return the strength (\"WEAK\", \"STRONG\" or \"MEDIUM\")\n"
   ]
  },
  {
   "cell_type": "code",
   "execution_count": 13,
   "metadata": {},
   "outputs": [
    {
     "name": "stdout",
     "output_type": "stream",
     "text": [
      "\n",
      "Running tests for function: password_strength\n",
      "  * password_strength( 'python' )  ...\n",
      "    returned: 'WEAK'\n",
      "    Correct :)   (1)\n",
      "  * password_strength( 'Secret9' )  ...\n",
      "    returned: 'WEAK'\n",
      "    Correct :)   (1)\n",
      "  * password_strength( 'secret99' )  ...\n",
      "    returned: 'MEDIUM'\n",
      "    Correct :)   (1)\n",
      "  * password_strength( 'Secret999!' )  ...\n",
      "    returned: 'MEDIUM'\n",
      "    Correct :)   (1)\n",
      "  * password_strength( 'BMX-122333444555Z' )  ...\n",
      "    returned: 'MEDIUM'\n",
      "    Correct :)   (1)\n",
      "  * password_strength( '7Kings8all9Pies' )  ...\n",
      "    returned: 'STRONG'\n",
      "    Correct :)   (1)\n",
      "Total marks for this function: 6 (of 6)\n"
     ]
    },
    {
     "data": {
      "text/plain": [
       "(6, 6)"
      ]
     },
     "execution_count": 13,
     "metadata": {},
     "output_type": "execute_result"
    }
   ],
   "source": [
    "# code to test the password_strength function\n",
    "# The A1_Formative_tests.py program must be in the same folder as this file.\n",
    "from A1_Formative_tests import do_tests\n",
    "do_tests( password_strength )"
   ]
  },
  {
   "cell_type": "markdown",
   "metadata": {},
   "source": [
    "## Q3: Megabyte Energy Bars (5 marks)\n",
    "The SnackShack convenience store sells Megabyte energy bars according to the following pricing rules:\n",
    "* Single Megabyte bar: £1.25\n",
    "* Megabyte Sixpack (6 bars): £5\n",
    "* 10% Discount given on all orders of £20 or more!<br/>\n",
    "  (To be precise: if the cost calculated from the first two\n",
    "   rules gives a value greater than or equal to £20, the\n",
    "   price charged will be 10% less than that value.)\n",
    "\n",
    "To answer this question, write a Python function __`megabyte_bars_cost`__ that takes one input, which is the number of Megabyte bars a customer wants to buy, and \n",
    "returns a ```float```, which is the total cost in pounds of buying that number of Megabyte bars. (You should assume that the buyer always minimises the cost by buying as many Sixpacks as\n",
    "possible.)\n",
    "\n",
    "\n",
    "Examples\n",
    "\n",
    "| Num Bars (input) |\tCost in £s (output)\t| Cost Breakdown |\n",
    "|-- | -- | -- | \n",
    "|3\t|3.75|\t3 single bars|\n",
    "|12\t|10\t|2 six packs\n",
    "|15\t|13.75|\t2 sixpacks and 3 single bars\n",
    "|26|\t20.25|\t4 sixpacks, 2 singles (22.50), 10% discount (-2.25)|\n"
   ]
  },
  {
   "cell_type": "code",
   "execution_count": 22,
   "metadata": {},
   "outputs": [],
   "source": [
    "## Edit this cell to give your answer for Q3\n",
    "\n",
    "def megabyte_bars_cost( n ):\n",
    "    ## add your code here\n",
    "    singles = n % 6\n",
    "    sixpacks = n // 6\n",
    "    total = (singles * 1.25 + sixpacks * 5)\n",
    "    if total >= 20:\n",
    "        total = total - total * 0.1 # apply discount\n",
    "\n",
    "    return total  ## change this to return the cost of buying n bars.\n"
   ]
  },
  {
   "cell_type": "code",
   "execution_count": 23,
   "metadata": {},
   "outputs": [
    {
     "name": "stdout",
     "output_type": "stream",
     "text": [
      "\n",
      "Running tests for function: megabyte_bars_cost\n",
      "  * megabyte_bars_cost( 3 )  ...\n",
      "    returned: 3.75\n",
      "    Correct :)   (1)\n",
      "  * megabyte_bars_cost( 12 )  ...\n",
      "    returned: 10.0\n",
      "    Correct :)   (1)\n",
      "  * megabyte_bars_cost( 15 )  ...\n",
      "    returned: 13.75\n",
      "    Correct :)   (1)\n",
      "  * megabyte_bars_cost( 26 )  ...\n",
      "    returned: 20.25\n",
      "    Correct :)   (1)\n",
      "  * megabyte_bars_cost( 100 )  ...\n",
      "    returned: 76.5\n",
      "    Correct :)   (1)\n",
      "Total marks for this function: 5 (of 5)\n"
     ]
    },
    {
     "data": {
      "text/plain": [
       "(5, 5)"
      ]
     },
     "execution_count": 23,
     "metadata": {},
     "output_type": "execute_result"
    }
   ],
   "source": [
    "# Run this cell to test the megabyte_bars_cost function\n",
    "# The A1_Formative_tests.py program must be in the same folder as this file.\n",
    "from A1_Formative_tests import do_tests\n",
    "do_tests(megabyte_bars_cost)"
   ]
  },
  {
   "cell_type": "markdown",
   "metadata": {},
   "source": [
    "# Grading\n",
    "\n",
    "The following code will run tests for all functions you have\n",
    "defined for this assessment and will calculate your total mark. \n",
    "\n",
    "To get your mark simply select the \"__Run All__\" option from the Jupyter \"__Cell__\" menu above. Test results followed by your overal grade will be shown below.\n",
    "<br>\n",
    "You can do this at any point to see the marks you would get for what you have done so far.\n",
    "However, if there are any syntax errors in your code, this is likely to prevent the\n",
    "grade checker running. So you will need to fix those before the autograding will work."
   ]
  },
  {
   "cell_type": "code",
   "execution_count": 24,
   "metadata": {},
   "outputs": [
    {
     "name": "stdout",
     "output_type": "stream",
     "text": [
      "\n",
      "Running tests for function: number_of_distinct_vowels\n",
      "  * number_of_distinct_vowels( 'Hello World' )  ...\n",
      "    returned: 2\n",
      "    Correct :)   (1)\n",
      "  * number_of_distinct_vowels( 'Sooo many vowels!' )  ...\n",
      "    returned: 3\n",
      "    Correct :)   (1)\n",
      "  * number_of_distinct_vowels( 'XXXX' )  ...\n",
      "    returned: 0\n",
      "    Correct :)   (1)\n",
      "  * number_of_distinct_vowels( 'Eutopia' )  ...\n",
      "    returned: 5\n",
      "    Correct :)   (1)\n",
      "Total marks for this function: 4 (of 4)\n",
      "\n",
      "Running tests for function: password_strength\n",
      "  * password_strength( 'python' )  ...\n",
      "    returned: 'WEAK'\n",
      "    Correct :)   (1)\n",
      "  * password_strength( 'Secret9' )  ...\n",
      "    returned: 'WEAK'\n",
      "    Correct :)   (1)\n",
      "  * password_strength( 'secret99' )  ...\n",
      "    returned: 'MEDIUM'\n",
      "    Correct :)   (1)\n",
      "  * password_strength( 'Secret999!' )  ...\n",
      "    returned: 'MEDIUM'\n",
      "    Correct :)   (1)\n",
      "  * password_strength( 'BMX-122333444555Z' )  ...\n",
      "    returned: 'MEDIUM'\n",
      "    Correct :)   (1)\n",
      "  * password_strength( '7Kings8all9Pies' )  ...\n",
      "    returned: 'STRONG'\n",
      "    Correct :)   (1)\n",
      "Total marks for this function: 6 (of 6)\n",
      "\n",
      "Running tests for function: megabyte_bars_cost\n",
      "  * megabyte_bars_cost( 3 )  ...\n",
      "    returned: 3.75\n",
      "    Correct :)   (1)\n",
      "  * megabyte_bars_cost( 12 )  ...\n",
      "    returned: 10.0\n",
      "    Correct :)   (1)\n",
      "  * megabyte_bars_cost( 15 )  ...\n",
      "    returned: 13.75\n",
      "    Correct :)   (1)\n",
      "  * megabyte_bars_cost( 26 )  ...\n",
      "    returned: 20.25\n",
      "    Correct :)   (1)\n",
      "  * megabyte_bars_cost( 100 )  ...\n",
      "    returned: 76.5\n",
      "    Correct :)   (1)\n",
      "Total marks for this function: 5 (of 5)\n",
      "\n",
      "FINAL TOTAL = 15  (of 15)\n",
      "\n",
      "Tests version: 1st Feb, 2023\n"
     ]
    }
   ],
   "source": [
    "from A1_Formative_tests import do_tests, tests_version\n",
    "\n",
    "functions = [\n",
    "              number_of_distinct_vowels,\n",
    "              password_strength,\n",
    "              megabyte_bars_cost\n",
    "            ]\n",
    "\n",
    "marks = 0\n",
    "max_marks = 0\n",
    "for function in functions:\n",
    "    mark, max = do_tests(function)\n",
    "    marks += mark\n",
    "    max_marks += max\n",
    "    \n",
    "print(\"\\nFINAL TOTAL =\", marks, \" (of\", str(max_marks) + \")\")\n",
    "print(\"\\nTests version:\", tests_version())\n"
   ]
  }
 ],
 "metadata": {
  "kernelspec": {
   "display_name": "Python 3",
   "language": "python",
   "name": "python3"
  },
  "language_info": {
   "codemirror_mode": {
    "name": "ipython",
    "version": 3
   },
   "file_extension": ".py",
   "mimetype": "text/x-python",
   "name": "python",
   "nbconvert_exporter": "python",
   "pygments_lexer": "ipython3",
   "version": "3.9.13"
  }
 },
 "nbformat": 4,
 "nbformat_minor": 2
}
